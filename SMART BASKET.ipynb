{
  "nbformat": 4,
  "nbformat_minor": 0,
  "metadata": {
    "colab": {
      "provenance": [],
      "gpuType": "T4"
    },
    "kernelspec": {
      "name": "python3",
      "display_name": "Python 3"
    },
    "language_info": {
      "name": "python"
    },
    "accelerator": "GPU"
  },
  "cells": [
    {
      "cell_type": "markdown",
      "source": [
        "### **E-Commerce Product Recommendation Engine using Graph DB and PySpark**\n",
        "\n",
        "\n",
        "#### **Contents**\n",
        "\n",
        "1. Reading CSV data - Department, Category, Products, Customer, Order, Items\n",
        "2. Data Processing and Transformation\n",
        "3. K-Means Clustering for Customer Segmentation\n",
        "4. Exploratory Data Analysis using SparkSQL\n",
        "5. Writing CSV data to Neo4j Sandbox. Incorporting Cluster data to GraphDB\n",
        "6. Building Product Recommendation using Graph DB\n",
        "\n"
      ],
      "metadata": {
        "id": "7d-hAEN2KJcY"
      }
    },
    {
      "cell_type": "markdown",
      "source": [
        "**1. Initializing PySpark and reading CSV data**"
      ],
      "metadata": {
        "id": "98p7cfXKQJ9q"
      }
    },
    {
      "cell_type": "code",
      "execution_count": 27,
      "metadata": {
        "id": "P-04xdL6uLqq",
        "colab": {
          "base_uri": "https://localhost:8080/"
        },
        "outputId": "9c7bed69-bdbe-4de6-950f-9db8ee75a16d"
      },
      "outputs": [
        {
          "output_type": "stream",
          "name": "stdout",
          "text": [
            "Requirement already satisfied: pyspark==3.0.1 in /usr/local/lib/python3.10/dist-packages (3.0.1)\n",
            "Requirement already satisfied: py4j==0.10.9 in /usr/local/lib/python3.10/dist-packages (from pyspark==3.0.1) (0.10.9)\n"
          ]
        }
      ],
      "source": [
        "#Install PySpark that is compatible with Neo4j and ML processing\n",
        "#!pip install pyspark==3.0.3\n",
        "!pip install pyspark==3.0.1"
      ]
    },
    {
      "cell_type": "code",
      "source": [
        "!python --version"
      ],
      "metadata": {
        "colab": {
          "base_uri": "https://localhost:8080/"
        },
        "id": "Y1rMmwvaOrq8",
        "outputId": "68327a05-d708-4ba4-f15f-f7ba786dd787"
      },
      "execution_count": null,
      "outputs": [
        {
          "output_type": "stream",
          "name": "stdout",
          "text": [
            "Python 3.10.12\n"
          ]
        }
      ]
    },
    {
      "cell_type": "code",
      "source": [
        "from pyspark.sql import SparkSession\n",
        "\n",
        "spark = (SparkSession.builder.appName('MachineLearning').getOrCreate())"
      ],
      "metadata": {
        "id": "HoQ9hQpucCnF"
      },
      "execution_count": null,
      "outputs": []
    },
    {
      "cell_type": "code",
      "source": [
        "spark.version"
      ],
      "metadata": {
        "colab": {
          "base_uri": "https://localhost:8080/",
          "height": 36
        },
        "id": "ZVLUwC6rVDCl",
        "outputId": "75dcf2cf-70e7-4a96-8fc9-561db061e583"
      },
      "execution_count": null,
      "outputs": [
        {
          "output_type": "execute_result",
          "data": {
            "text/plain": [
              "'3.0.1'"
            ],
            "application/vnd.google.colaboratory.intrinsic+json": {
              "type": "string"
            }
          },
          "metadata": {},
          "execution_count": 4
        }
      ]
    },
    {
      "cell_type": "markdown",
      "source": [
        "**1.1 Loading CSV data**"
      ],
      "metadata": {
        "id": "9UHzV2cZLr-f"
      }
    },
    {
      "cell_type": "code",
      "source": [
        "product = spark.read.csv('products.csv',inferSchema=True,header=True)\n",
        "category = spark.read.csv('categories.csv',inferSchema=True,header=True)\n",
        "customer = spark.read.csv('customers.csv',inferSchema=True,header=True)\n",
        "department = spark.read.csv('departments.csv',inferSchema=True,header=True)\n",
        "order = spark.read.csv('orders.csv',inferSchema=True,header=True)\n",
        "item = spark.read.csv('order_items.csv',inferSchema=True,header=True)"
      ],
      "metadata": {
        "id": "O9RXm9HoynuS"
      },
      "execution_count": 12,
      "outputs": []
    },
    {
      "cell_type": "code",
      "source": [
        "department.show(2)\n",
        "category.show(2)\n",
        "product.show(2)\n",
        "order.show(2)\n",
        "item.show(2)\n",
        "customer.show(2)"
      ],
      "metadata": {
        "id": "jH5azND2ynnW",
        "colab": {
          "base_uri": "https://localhost:8080/"
        },
        "outputId": "476bbb21-d392-4f92-b974-e0db65e2a105"
      },
      "execution_count": null,
      "outputs": [
        {
          "output_type": "stream",
          "name": "stdout",
          "text": [
            "+-------+---------+\n",
            "|dept_id|dept_name|\n",
            "+-------+---------+\n",
            "|      2|  Fitness|\n",
            "|      3| Footwear|\n",
            "+-------+---------+\n",
            "only showing top 2 rows\n",
            "\n",
            "+-----------+----------------+-------------+\n",
            "|category_id|category_dept_id|category_name|\n",
            "+-----------+----------------+-------------+\n",
            "|          1|               2|     Football|\n",
            "|          2|               2|       Soccer|\n",
            "+-----------+----------------+-------------+\n",
            "only showing top 2 rows\n",
            "\n",
            "+----------+-------------------+--------------------+-------------+--------------------+\n",
            "|product_id|product_category_id|        product_name|product_price|   product_image_url|\n",
            "+----------+-------------------+--------------------+-------------+--------------------+\n",
            "|         1|                  2|Quest Q64 10 FT. ...|        59.98|http://images.acm...|\n",
            "|         2|                  2|Under Armour Men'...|       129.99|http://images.acm...|\n",
            "+----------+-------------------+--------------------+-------------+--------------------+\n",
            "only showing top 2 rows\n",
            "\n",
            "+--------+----------+-----------------+---------------+\n",
            "|order_id|order_date|order_customer_id|   order_status|\n",
            "+--------+----------+-----------------+---------------+\n",
            "|       1| 7/25/2013|            11599|         CLOSED|\n",
            "|       2| 7/25/2013|              256|PENDING_PAYMENT|\n",
            "+--------+----------+-----------------+---------------+\n",
            "only showing top 2 rows\n",
            "\n",
            "+-------+-------------+---------------+-------------+-------------+------------------+\n",
            "|item_id|item_order_id|item_product_id|item_quantity|item_subtotal|item_product_price|\n",
            "+-------+-------------+---------------+-------------+-------------+------------------+\n",
            "|      1|            1|            957|            1|       299.98|            299.98|\n",
            "|      2|            2|           1073|            1|       199.99|            199.99|\n",
            "+-------+-------------+---------------+-------------+-------------+------------------+\n",
            "only showing top 2 rows\n",
            "\n",
            "+-----------+--------------+--------------+--------------------+-------------+--------------+------------+\n",
            "|customer_id|customer_fname|customer_lname|     customer_street|customer_city|customer_state|customer_zip|\n",
            "+-----------+--------------+--------------+--------------------+-------------+--------------+------------+\n",
            "|          1|       Richard|     Hernandez|  6303 Heather Plaza|  Brownsville|            TX|       78521|\n",
            "|          2|          Mary|       Barrett|9526 Noble Embers...|    Littleton|            CO|       80126|\n",
            "+-----------+--------------+--------------+--------------------+-------------+--------------+------------+\n",
            "only showing top 2 rows\n",
            "\n"
          ]
        }
      ]
    },
    {
      "cell_type": "code",
      "source": [
        "# import utility functions that we'll use in the notebook\n",
        "from pyspark.sql.types import *\n",
        "from pyspark.sql.functions import *"
      ],
      "metadata": {
        "id": "7Ud38Zu7ynYH"
      },
      "execution_count": null,
      "outputs": []
    },
    {
      "cell_type": "markdown",
      "source": [
        "#### **2. Data Processing and Transformation**"
      ],
      "metadata": {
        "id": "LfUivxFltuyl"
      }
    },
    {
      "cell_type": "code",
      "source": [
        "final_df = category.join(department,category.category_dept_id == department.dept_id, \"inner\") \\\n",
        "                  .join(product, category.category_id == product.product_category_id, \"left\") \\\n",
        "                  .join(item, product.product_id == item.item_product_id, \"left\") \\\n",
        "                  .join(order, item.item_order_id == order.order_id, \"right\") \\\n",
        "                  .join(customer, order.order_customer_id == customer.customer_id, \"outer\")\n"
      ],
      "metadata": {
        "id": "B445DWWot2rv"
      },
      "execution_count": null,
      "outputs": []
    },
    {
      "cell_type": "code",
      "source": [
        "col_names = ['category_id','category_name','dept_id','dept_name','product_id',\n",
        "             'product_name','product_price','item_id','item_quantity','item_subtotal','order_id','order_date',\n",
        "             'order_status','customer_id','customer_fname','customer_lname','customer_street','customer_city','customer_state','customer_zip']\n",
        "\n",
        "final_df = final_df.select(*col_names)\n",
        "\n",
        "final_df.show(10)"
      ],
      "metadata": {
        "colab": {
          "base_uri": "https://localhost:8080/"
        },
        "id": "2Np1pPSPxXBc",
        "outputId": "1250d13e-9c67-43da-c0f7-6f4b964797b6"
      },
      "execution_count": null,
      "outputs": [
        {
          "output_type": "stream",
          "name": "stdout",
          "text": [
            "+-----------+--------------------+-------+---------+----------+--------------------+-------------+-------+-------------+-------------+--------+----------+------------+-----------+--------------+--------------+----------------+-------------+--------------+------------+\n",
            "|category_id|       category_name|dept_id|dept_name|product_id|        product_name|product_price|item_id|item_quantity|item_subtotal|order_id|order_date|order_status|customer_id|customer_fname|customer_lname| customer_street|customer_city|customer_state|customer_zip|\n",
            "+-----------+--------------------+-------+---------+----------+--------------------+-------------+-------+-------------+-------------+--------+----------+------------+-----------+--------------+--------------+----------------+-------------+--------------+------------+\n",
            "|         24|     Women's Apparel|      5|     Golf|       502|Nike Men's Dri-FI...|         50.0| 152888|            3|        150.0|   61124| 12/2/2013|      CLOSED|        148|     Stephanie|      Richards|    245 Lost Way|       Caguas|            PR|         725|\n",
            "|         43|    Camping & Hiking|      7| Fan Shop|       957|Diamondback Women...|       299.98| 152889|            1|       299.98|   61124| 12/2/2013|      CLOSED|        148|     Stephanie|      Richards|    245 Lost Way|       Caguas|            PR|         725|\n",
            "|         46|Indoor/Outdoor Games|      7| Fan Shop|      1014|O'Brien Men's Neo...|        49.98| 152890|            5|        249.9|   61124| 12/2/2013|      CLOSED|        148|     Stephanie|      Richards|    245 Lost Way|       Caguas|            PR|         725|\n",
            "|         45|             Fishing|      7| Fan Shop|      1004|Field & Stream Sp...|       399.98|  37693|            1|       399.98|   15061|10/28/2013|      CLOSED|        148|     Stephanie|      Richards|    245 Lost Way|       Caguas|            PR|         725|\n",
            "|         29|       Shop By Sport|      5|     Golf|       627|Under Armour Girl...|        39.99| 149097|            4|       159.96|   59569| 10/3/2013|    COMPLETE|        148|     Stephanie|      Richards|    245 Lost Way|       Caguas|            PR|         725|\n",
            "|         46|Indoor/Outdoor Games|      7| Fan Shop|      1014|O'Brien Men's Neo...|        49.98| 149095|            3|       149.94|   59569| 10/3/2013|    COMPLETE|        148|     Stephanie|      Richards|    245 Lost Way|       Caguas|            PR|         725|\n",
            "|         48|        Water Sports|      7| Fan Shop|      1073|Pelican Sunstream...|       199.99| 149098|            1|       199.99|   59569| 10/3/2013|    COMPLETE|        148|     Stephanie|      Richards|    245 Lost Way|       Caguas|            PR|         725|\n",
            "|         48|        Water Sports|      7| Fan Shop|      1073|Pelican Sunstream...|       199.99| 149096|            1|       199.99|   59569| 10/3/2013|    COMPLETE|        148|     Stephanie|      Richards|    245 Lost Way|       Caguas|            PR|         725|\n",
            "|         48|        Water Sports|      7| Fan Shop|      1073|Pelican Sunstream...|       199.99| 149094|            1|       199.99|   59569| 10/3/2013|    COMPLETE|        148|     Stephanie|      Richards|    245 Lost Way|       Caguas|            PR|         725|\n",
            "|         48|        Water Sports|      7| Fan Shop|      1073|Pelican Sunstream...|       199.99| 162019|            1|       199.99|   64818| 4/20/2014|     ON_HOLD|        463|         Harry|         Smith|7598 Little Maze|       Caguas|            PR|         725|\n",
            "+-----------+--------------------+-------+---------+----------+--------------------+-------------+-------+-------------+-------------+--------+----------+------------+-----------+--------------+--------------+----------------+-------------+--------------+------------+\n",
            "only showing top 10 rows\n",
            "\n"
          ]
        }
      ]
    },
    {
      "cell_type": "code",
      "source": [
        "final_df.describe().show()"
      ],
      "metadata": {
        "colab": {
          "base_uri": "https://localhost:8080/"
        },
        "id": "iMfDOLydt2mB",
        "outputId": "cb0cafb9-b1e4-4fc5-b0ff-ea5cbd671cdb"
      },
      "execution_count": null,
      "outputs": [
        {
          "output_type": "stream",
          "name": "stdout",
          "text": [
            "+-------+------------------+------------------+------------------+---------+------------------+--------------------+------------------+-----------------+------------------+------------------+-----------------+----------+---------------+------------------+--------------+--------------+--------------------+-------------+--------------+-----------------+\n",
            "|summary|       category_id|     category_name|           dept_id|dept_name|        product_id|        product_name|     product_price|          item_id|     item_quantity|     item_subtotal|         order_id|order_date|   order_status|       customer_id|customer_fname|customer_lname|     customer_street|customer_city|customer_state|     customer_zip|\n",
            "+-------+------------------+------------------+------------------+---------+------------------+--------------------+------------------+-----------------+------------------+------------------+-----------------+----------+---------------+------------------+--------------+--------------+--------------------+-------------+--------------+-----------------+\n",
            "|  count|            172198|            172198|            172198|   172198|            172198|              172198|            172198|           172198|            172198|            172198|           183650|    183650|         183650|            183680|        183680|        183680|              183680|       183680|        183680|           183680|\n",
            "|   mean|30.095663131975982|              null| 5.346420980499193|     null| 660.4877176273824|                null|133.75906624931838|          86099.5|2.1821275508426345|199.32066533873845| 34447.9836972502|      null|           null| 6214.961585365853|          null|          null|                null|         null|          null|35902.12002939895|\n",
            "| stddev|13.718436209378817|              null|1.4813328044080085|     null|310.51447279000877|                null|118.55893257266737|49709.42516431535|1.4663523175387172|112.74303721400811|19882.27217598989|      null|           null|3593.4703907438634|          null|          null|                null|         null|          null|37525.39498995245|\n",
            "|    min|                 2|       Accessories|                 2|  Apparel|                19|Bag Boy Beverage ...|              9.99|                1|                 1|              9.99|                1|  1/1/2014|       CANCELED|                 1|         Aaron|        Abbott|      1 Bright Manor|    Aguadilla|            AL|              603|\n",
            "|    max|                48|Women's Golf Clubs|                 7| Outdoors|              1073|insta-bed Neverfl...|           1999.99|           172198|                 5|           1999.99|            68883|  9/9/2013|SUSPECTED_FRAUD|             12435|       Zachary|        Zuniga|9995 Tawny Embers...|   Zanesville|            WV|            99205|\n",
            "+-------+------------------+------------------+------------------+---------+------------------+--------------------+------------------+-----------------+------------------+------------------+-----------------+----------+---------------+------------------+--------------+--------------+--------------------+-------------+--------------+-----------------+\n",
            "\n"
          ]
        }
      ]
    },
    {
      "cell_type": "code",
      "source": [
        "#Dropping Null values from customers who didnt place any order for model training\n",
        "\n",
        "final_df1 = final_df.na.drop()\n"
      ],
      "metadata": {
        "id": "R6ntAGf03ZYW"
      },
      "execution_count": null,
      "outputs": []
    },
    {
      "cell_type": "markdown",
      "source": [
        "#### **3. Customer Segmentation using K-Means Cluster technique**\n",
        "\n",
        "---\n",
        "\n"
      ],
      "metadata": {
        "id": "WUJYmOm9ta-n"
      }
    },
    {
      "cell_type": "code",
      "source": [
        "from pyspark.ml.feature import StringIndexer, OneHotEncoder, VectorAssembler\n",
        "from pyspark.ml import Pipeline\n",
        "from pyspark.ml.clustering import KMeans\n",
        "\n",
        "# Step 1: Encode categorical features using StringIndexer + OneHotEncoder\n",
        "categoricalColumns = ['dept_name', 'order_status', 'customer_state', 'category_id']\n",
        "indexOutputCols = [x + \"_Index\" for x in categoricalColumns]\n",
        "oheOutputCols = [x + \"_OHE\" for x in categoricalColumns]\n",
        "\n",
        "stringIndexer = StringIndexer(inputCols=categoricalColumns, outputCols=indexOutputCols)\n",
        "oheEncoder = OneHotEncoder(inputCols=indexOutputCols, outputCols=oheOutputCols)\n",
        "\n",
        "# Step 2: Assemble all feature columns (numerical + categorical) into a single feature vector\n",
        "numericalCols = ['product_price', 'item_quantity']\n",
        "assemblerInputs = oheOutputCols + numericalCols\n",
        "vectorAssembler = VectorAssembler(inputCols=assemblerInputs, outputCol=\"features\")\n",
        "\n",
        "# Step 3: Define the pipeline\n",
        "pipeline = Pipeline(stages=[stringIndexer, oheEncoder, vectorAssembler])\n",
        "\n",
        "# Assume final_df1 is your initial Spark DataFrame\n",
        "pipelineModel = pipeline.fit(final_df1)\n",
        "dataset = pipelineModel.transform(final_df1)\n"
      ],
      "metadata": {
        "id": "o1NK3WAscuoy"
      },
      "execution_count": null,
      "outputs": []
    },
    {
      "cell_type": "code",
      "source": [
        "# Model fitting and prediction\n",
        "k = 5\n",
        "\n",
        "kmeans = KMeans(featuresCol=\"features\", k=k, seed=1)\n",
        "model = kmeans.fit(dataset)\n",
        "\n",
        "# Make predictions (each customer assigned to a cluster)\n",
        "predictions = model.transform(dataset)\n",
        "\n",
        "# Optional: Evaluate clustering by computing Silhouette score\n",
        "from pyspark.ml.evaluation import ClusteringEvaluator\n",
        "\n",
        "evaluator = ClusteringEvaluator()\n",
        "\n",
        "silhouette = evaluator.evaluate(predictions)\n",
        "print(\"Silhouette with squared euclidean distance = \" + str(silhouette))\n"
      ],
      "metadata": {
        "id": "IMW9RRhzculX",
        "colab": {
          "base_uri": "https://localhost:8080/"
        },
        "outputId": "c135ed85-dc05-49bc-c4ea-a0d9c8b833e1"
      },
      "execution_count": null,
      "outputs": [
        {
          "output_type": "stream",
          "name": "stdout",
          "text": [
            "Silhouette with squared euclidean distance = 0.6927063415112292\n"
          ]
        }
      ]
    },
    {
      "cell_type": "markdown",
      "source": [
        "Silhouette score of approximately **0.69** suggests that, on average, objects are relatively well clustered. This is a relatively high score, indicating that the data points are, on average, closer to other data points in their cluster than to data points in other clusters. This implies that the **K-Means model is good** and grouped the data into clusters that are compact and well-separated from each other."
      ],
      "metadata": {
        "id": "JoN4tX3FLK88"
      }
    },
    {
      "cell_type": "code",
      "source": [
        "# Select customer_id and its assigned cluster\n",
        "cluster_assignments = predictions.select(\"customer_id\", \"prediction\")\n",
        "\n",
        "cluster_assignments.show(5)"
      ],
      "metadata": {
        "id": "U2XVodvXcuhW",
        "colab": {
          "base_uri": "https://localhost:8080/"
        },
        "outputId": "6f29ecd2-88f4-4f9b-b73f-f2dede8f9930"
      },
      "execution_count": null,
      "outputs": [
        {
          "output_type": "stream",
          "name": "stdout",
          "text": [
            "+-----------+----------+\n",
            "|customer_id|prediction|\n",
            "+-----------+----------+\n",
            "|        148|         1|\n",
            "|        148|         0|\n",
            "|        148|         1|\n",
            "|        148|         0|\n",
            "|        148|         1|\n",
            "+-----------+----------+\n",
            "only showing top 5 rows\n",
            "\n"
          ]
        }
      ]
    },
    {
      "cell_type": "markdown",
      "source": [
        "Since the model/predictions were made at transcational level, each customer is associated with multiple cluster according to their order behavior. We will assign customer to the cluster that they are associated most with"
      ],
      "metadata": {
        "id": "0Z4prtifQwjH"
      }
    },
    {
      "cell_type": "code",
      "source": [
        "from pyspark.sql import Window\n",
        "import pyspark.sql.functions as F\n",
        "\n",
        "# Group by customer_id and prediction, then counting the occurrences\n",
        "prediction_counts = cluster_assignments.groupBy('customer_id', 'prediction')\\\n",
        "                                   .agg(F.count('prediction').alias('count'))\n",
        "\n",
        "# Window partitioned by customer_id and ordered by count in descending order\n",
        "windowSpec = Window.partitionBy('customer_id').orderBy(F.desc('count'))\n",
        "\n",
        "# Using row_number window function to assign a unique row number to each row within the partition of customer_id\n",
        "ranked_predictions = prediction_counts.withColumn('rank', F.row_number().over(windowSpec))\n",
        "\n",
        "# Filtering to get only the top row (highest count or rank = 1) for each customer_id\n",
        "cluster = ranked_predictions.filter(ranked_predictions['rank'] == 1)\\\n",
        "                                                .drop('rank', 'count')\n",
        "\n",
        "cluster.show(5)\n"
      ],
      "metadata": {
        "colab": {
          "base_uri": "https://localhost:8080/"
        },
        "id": "A0Ie5upWFNLn",
        "outputId": "0a6904ed-0952-4fb0-fba5-6ce45661e2eb"
      },
      "execution_count": null,
      "outputs": [
        {
          "output_type": "stream",
          "name": "stdout",
          "text": [
            "+-----------+----------+\n",
            "|customer_id|prediction|\n",
            "+-----------+----------+\n",
            "|        148|         1|\n",
            "|        463|         1|\n",
            "|        471|         4|\n",
            "|        496|         1|\n",
            "|        833|         0|\n",
            "+-----------+----------+\n",
            "only showing top 5 rows\n",
            "\n"
          ]
        }
      ]
    },
    {
      "cell_type": "code",
      "source": [
        "# Saving the cluster data as csv\n",
        "output_path = \"/content/cluster.csv\"\n",
        "\n",
        "# Save the DataFrame to CSV\n",
        "cluster.coalesce(1).write.csv(output_path, mode=\"overwrite\", header=True)"
      ],
      "metadata": {
        "id": "MnrPoV9rL0Q0"
      },
      "execution_count": null,
      "outputs": []
    },
    {
      "cell_type": "code",
      "source": [
        "cluster.show(5)"
      ],
      "metadata": {
        "colab": {
          "base_uri": "https://localhost:8080/"
        },
        "id": "g-KqzH_7GS6d",
        "outputId": "20eec63c-2ed7-4b5f-8fba-35a364ed4d7b"
      },
      "execution_count": null,
      "outputs": [
        {
          "output_type": "stream",
          "name": "stdout",
          "text": [
            "+-----------+----------+\n",
            "|customer_id|prediction|\n",
            "+-----------+----------+\n",
            "|        148|         1|\n",
            "|        463|         1|\n",
            "|        471|         4|\n",
            "|        496|         1|\n",
            "|        833|         0|\n",
            "+-----------+----------+\n",
            "only showing top 5 rows\n",
            "\n"
          ]
        }
      ]
    },
    {
      "cell_type": "markdown",
      "source": [
        "### 4. **EDA using SparkSQL**"
      ],
      "metadata": {
        "id": "pm7kmAzGdXy_"
      }
    },
    {
      "cell_type": "code",
      "source": [
        "from pyspark.sql import SparkSession\n",
        "from pyspark.sql import HiveContext, Row\n",
        "\n",
        "if __name__ == \"__main__\":\n",
        "    session = SparkSession.builder.enableHiveSupport().getOrCreate()\n",
        "    sc = session.sparkContext\n",
        "    hiveCtx = HiveContext(sc)"
      ],
      "metadata": {
        "id": "SK9Kg69bdgYK"
      },
      "execution_count": null,
      "outputs": []
    },
    {
      "cell_type": "code",
      "source": [
        "import pandas as pd\n",
        "\n",
        "categories = pd.read_csv(\"categories.csv\")\n",
        "df_categories = hiveCtx.createDataFrame(categories)\n",
        "df_categories.createOrReplaceTempView(\"categories\")\n",
        "\n",
        "customers = pd.read_csv(\"customers.csv\")\n",
        "df_customers = hiveCtx.createDataFrame(customers)\n",
        "df_customers.createOrReplaceTempView(\"customers\")\n",
        "\n",
        "departments = pd.read_csv(\"departments.csv\")\n",
        "df_departments = hiveCtx.createDataFrame(departments)\n",
        "df_departments.createOrReplaceTempView(\"departments\")\n",
        "\n",
        "order_items = pd.read_csv(\"order_items.csv\")\n",
        "df_order_items = hiveCtx.createDataFrame(order_items)\n",
        "df_order_items.createOrReplaceTempView(\"order_items\")\n",
        "\n",
        "orders = pd.read_csv(\"orders.csv\")\n",
        "df_orders = hiveCtx.createDataFrame(orders)\n",
        "df_orders.createOrReplaceTempView(\"orders\")\n",
        "\n",
        "products = pd.read_csv(\"products.csv\")\n",
        "df_products = hiveCtx.createDataFrame(products)\n",
        "df_products.createOrReplaceTempView(\"products\")"
      ],
      "metadata": {
        "colab": {
          "base_uri": "https://localhost:8080/"
        },
        "id": "WeR-ZWB0miMg",
        "outputId": "3dd2c992-c413-4607-cf63-8c608a75584e"
      },
      "execution_count": null,
      "outputs": [
        {
          "output_type": "stream",
          "name": "stderr",
          "text": [
            "/usr/local/lib/python3.10/dist-packages/pyspark/sql/pandas/conversion.py:327: FutureWarning: iteritems is deprecated and will be removed in a future version. Use .items instead.\n",
            "  for column, series in pdf.iteritems():\n",
            "/usr/local/lib/python3.10/dist-packages/pyspark/sql/pandas/conversion.py:327: FutureWarning: iteritems is deprecated and will be removed in a future version. Use .items instead.\n",
            "  for column, series in pdf.iteritems():\n",
            "/usr/local/lib/python3.10/dist-packages/pyspark/sql/pandas/conversion.py:327: FutureWarning: iteritems is deprecated and will be removed in a future version. Use .items instead.\n",
            "  for column, series in pdf.iteritems():\n",
            "/usr/local/lib/python3.10/dist-packages/pyspark/sql/pandas/conversion.py:327: FutureWarning: iteritems is deprecated and will be removed in a future version. Use .items instead.\n",
            "  for column, series in pdf.iteritems():\n",
            "/usr/local/lib/python3.10/dist-packages/pyspark/sql/pandas/conversion.py:327: FutureWarning: iteritems is deprecated and will be removed in a future version. Use .items instead.\n",
            "  for column, series in pdf.iteritems():\n",
            "/usr/local/lib/python3.10/dist-packages/pyspark/sql/pandas/conversion.py:327: FutureWarning: iteritems is deprecated and will be removed in a future version. Use .items instead.\n",
            "  for column, series in pdf.iteritems():\n"
          ]
        }
      ]
    },
    {
      "cell_type": "markdown",
      "source": [
        "**4.1  Customer Churn Rate**"
      ],
      "metadata": {
        "id": "a4FAPh_Od-9b"
      }
    },
    {
      "cell_type": "code",
      "source": [
        "# Calculate total number of customers\n",
        "total_customers_analysis = hiveCtx.sql(\"\"\"\n",
        "    SELECT COUNT(*) AS total_customers_count\n",
        "    FROM customers\n",
        "\"\"\").collect()[0][0]\n",
        "\n",
        "# Calculate churned customers count\n",
        "churned_customers_analysis = hiveCtx.sql(\"\"\"\n",
        "    SELECT COUNT(*) AS churned_customers_count\n",
        "    FROM customers\n",
        "    WHERE customer_id NOT IN (\n",
        "        SELECT DISTINCT order_customer_id\n",
        "        FROM orders\n",
        "    )\n",
        "\"\"\").collect()[0][0]\n",
        "\n",
        "# Calculate churn rate as a percentage\n",
        "churn_rate_percentage = (churned_customers_analysis / total_customers_analysis) * 100\n",
        "\n",
        "# Display results\n",
        "print(\"Total customers:\", total_customers_analysis)\n",
        "print(\"Churned customers:\", churned_customers_analysis)\n",
        "print(\"Churn rate (%):\", churn_rate_percentage)\n"
      ],
      "metadata": {
        "colab": {
          "base_uri": "https://localhost:8080/"
        },
        "id": "NAT7xO3qd-gh",
        "outputId": "6f0341f6-178b-486a-9b84-641b4f7f0b7c"
      },
      "execution_count": null,
      "outputs": [
        {
          "output_type": "stream",
          "name": "stdout",
          "text": [
            "Total customers: 12435\n",
            "Churned customers: 30\n",
            "Churn rate (%): 0.24125452352231602\n"
          ]
        }
      ]
    },
    {
      "cell_type": "markdown",
      "source": [
        "**4.2 Average Order Value of each Customer**"
      ],
      "metadata": {
        "id": "XG9rnzZpeXxY"
      }
    },
    {
      "cell_type": "code",
      "source": [
        "average_order_value_per_customer = hiveCtx.sql(\"\"\"\n",
        "    SELECT o.order_customer_id, AVG(oi.item_subtotal) AS average_order_value\n",
        "    FROM orders o\n",
        "    JOIN order_items oi ON o.order_id = oi.item_order_id\n",
        "    GROUP BY o.order_customer_id\n",
        "    ORDER BY average_order_value DESC\n",
        "\"\"\")\n",
        "\n",
        "average_order_value_per_customer.show()"
      ],
      "metadata": {
        "colab": {
          "base_uri": "https://localhost:8080/"
        },
        "id": "DOpbHvkzdgV2",
        "outputId": "f1e2bc68-9f36-4e0d-e899-b43638f2f184"
      },
      "execution_count": null,
      "outputs": [
        {
          "output_type": "stream",
          "name": "stdout",
          "text": [
            "+-----------------+-------------------+\n",
            "|order_customer_id|average_order_value|\n",
            "+-----------------+-------------------+\n",
            "|             6164|             499.95|\n",
            "|                1|             499.95|\n",
            "|             9385| 449.96500000000003|\n",
            "|            10904| 433.30333333333334|\n",
            "|             6207|             399.98|\n",
            "|             8985|             399.98|\n",
            "|             3312|             399.98|\n",
            "|             1230|             399.98|\n",
            "|              992|             399.98|\n",
            "|             2396|             399.98|\n",
            "|             4828|             399.98|\n",
            "|             3698|             399.98|\n",
            "|             3662|             399.98|\n",
            "|             4146|  399.9766666666667|\n",
            "|             6324|             399.97|\n",
            "|             9983| 399.96500000000003|\n",
            "|             7372|             399.96|\n",
            "|             4826|             399.96|\n",
            "|             4844|  391.6466666666667|\n",
            "|             6517|            383.982|\n",
            "+-----------------+-------------------+\n",
            "only showing top 20 rows\n",
            "\n"
          ]
        }
      ]
    },
    {
      "cell_type": "markdown",
      "source": [
        "**4.3 Customers with repeat orders**"
      ],
      "metadata": {
        "id": "EnDCwCZNes_G"
      }
    },
    {
      "cell_type": "code",
      "source": [
        "repeat_customers_across_categories = hiveCtx.sql(\"\"\"\n",
        "    SELECT o.order_customer_id,p.product_id,p.product_name,count(o.order_date)\n",
        "    FROM orders o\n",
        "    JOIN order_items oi ON o.order_id = oi.item_order_id\n",
        "    JOIN products p ON oi.item_product_id = p.product_id\n",
        "    GROUP BY o.order_customer_id,p.product_id,p.product_name, o.order_date, o.order_status\n",
        "    HAVING COUNT(DISTINCT o.order_id) > 1 AND o.order_status NOT IN ('CANCELED','SUSPECTED_FRAUD')\n",
        "    ORDER BY 4 DESC\n",
        "\"\"\")\n",
        "\n",
        "# Show the result for repeat customers across different product categories\n",
        "repeat_customers_across_categories.show(truncate=False)"
      ],
      "metadata": {
        "colab": {
          "base_uri": "https://localhost:8080/"
        },
        "id": "kHNkB2qRdgTe",
        "outputId": "0a4c1d38-b144-45bf-9e29-6dac42d01c1a"
      },
      "execution_count": null,
      "outputs": [
        {
          "output_type": "stream",
          "name": "stdout",
          "text": [
            "+-----------------+----------+-----------------------------------------+-----------------+\n",
            "|order_customer_id|product_id|product_name                             |count(order_date)|\n",
            "+-----------------+----------+-----------------------------------------+-----------------+\n",
            "|8038             |502       |Nike Men's Dri-FIT Victory Golf Polo     |4                |\n",
            "|6465             |1014      |O'Brien Men's Neoprene Life Vest         |3                |\n",
            "|8674             |403       |Nike Men's CJ Elite 2 TD Football Cleat  |3                |\n",
            "|7183             |1014      |O'Brien Men's Neoprene Life Vest         |3                |\n",
            "|9952             |1014      |O'Brien Men's Neoprene Life Vest         |3                |\n",
            "|8638             |365       |Perfect Fitness Perfect Rip Deck         |3                |\n",
            "|10377            |502       |Nike Men's Dri-FIT Victory Golf Polo     |3                |\n",
            "|8038             |403       |Nike Men's CJ Elite 2 TD Football Cleat  |3                |\n",
            "|4234             |403       |Nike Men's CJ Elite 2 TD Football Cleat  |3                |\n",
            "|5553             |502       |Nike Men's Dri-FIT Victory Golf Polo     |3                |\n",
            "|1595             |1014      |O'Brien Men's Neoprene Life Vest         |3                |\n",
            "|5859             |365       |Perfect Fitness Perfect Rip Deck         |3                |\n",
            "|744              |1004      |Field & Stream Sportsman 16 Gun Fire Safe|3                |\n",
            "|6269             |365       |Perfect Fitness Perfect Rip Deck         |3                |\n",
            "|10543            |365       |Perfect Fitness Perfect Rip Deck         |3                |\n",
            "|6676             |1073      |Pelican Sunstream 100 Kayak              |3                |\n",
            "|9459             |502       |Nike Men's Dri-FIT Victory Golf Polo     |3                |\n",
            "|1169             |1004      |Field & Stream Sportsman 16 Gun Fire Safe|3                |\n",
            "|3383             |365       |Perfect Fitness Perfect Rip Deck         |2                |\n",
            "|2618             |1073      |Pelican Sunstream 100 Kayak              |2                |\n",
            "+-----------------+----------+-----------------------------------------+-----------------+\n",
            "only showing top 20 rows\n",
            "\n"
          ]
        }
      ]
    },
    {
      "cell_type": "markdown",
      "source": [
        "**4.4 Customer Life-Time Value Analysis**"
      ],
      "metadata": {
        "id": "Mers8hdze7JJ"
      }
    },
    {
      "cell_type": "code",
      "source": [
        "# Calculate the lifetime value of repeat customers\n",
        "lifetime_value_analysis = hiveCtx.sql(\"\"\"\n",
        "    SELECT o.order_customer_id, COUNT(o.order_id) AS total_orders, SUM(oi.item_subtotal) AS total_spent\n",
        "    FROM orders o\n",
        "    JOIN order_items oi ON o.order_id = oi.item_order_id\n",
        "    WHERE o.order_customer_id IN (\n",
        "        SELECT order_customer_id\n",
        "        FROM (\n",
        "                SELECT o.order_customer_id,p.product_id,p.product_name,count(o.order_date)\n",
        "                FROM orders o\n",
        "                JOIN order_items oi ON o.order_id = oi.item_order_id\n",
        "                JOIN products p ON oi.item_product_id = p.product_id\n",
        "                GROUP BY o.order_customer_id,p.product_id,p.product_name, o.order_date, o.order_status\n",
        "                HAVING COUNT(DISTINCT o.order_id) > 1 AND o.order_status NOT IN ('CANCELED','SUSPECTED_FRAUD')\n",
        "                ORDER BY 4 DESC\n",
        "        ) AS repeat_customers\n",
        "    )\n",
        "    GROUP BY o.order_customer_id\n",
        "    ORDER BY total_spent DESC\n",
        "\"\"\")\n",
        "\n",
        "# Show the result for the lifetime value analysis of repeat customers\n",
        "lifetime_value_analysis.show(truncate=False)"
      ],
      "metadata": {
        "colab": {
          "base_uri": "https://localhost:8080/"
        },
        "id": "lAPeFaPZe56r",
        "outputId": "1a5d6c2d-8110-4532-c108-ad1a7bce3792"
      },
      "execution_count": null,
      "outputs": [
        {
          "output_type": "stream",
          "name": "stdout",
          "text": [
            "+-----------------+------------+------------------+\n",
            "|order_customer_id|total_orders|total_spent       |\n",
            "+-----------------+------------+------------------+\n",
            "|10351            |28          |8339.26           |\n",
            "|6615             |35          |7179.1900000000005|\n",
            "|172              |32          |6591.23           |\n",
            "|9107             |33          |6129.199999999999 |\n",
            "|688              |24          |5909.24           |\n",
            "|1169             |29          |5613.2300000000005|\n",
            "|548              |28          |5458.34           |\n",
            "|744              |27          |5339.32           |\n",
            "|10543            |26          |5311.43           |\n",
            "|10521            |23          |5249.52           |\n",
            "|9459             |30          |5238.43           |\n",
            "|2609             |25          |5159.46           |\n",
            "|3531             |29          |5140.410000000001 |\n",
            "|8757             |29          |5051.26           |\n",
            "|11761            |29          |5049.349999999999 |\n",
            "|2618             |25          |4757.39           |\n",
            "|8674             |25          |4719.3            |\n",
            "|8038             |25          |4614.469999999999 |\n",
            "|5859             |27          |4511.33           |\n",
            "|2093             |28          |4488.23           |\n",
            "+-----------------+------------+------------------+\n",
            "only showing top 20 rows\n",
            "\n"
          ]
        }
      ]
    },
    {
      "cell_type": "markdown",
      "source": [
        "Based on above analysis, we can improve our recommendation, and make real-time recommendation faster with Graph DB"
      ],
      "metadata": {
        "id": "BWeP8txxfPeg"
      }
    },
    {
      "cell_type": "markdown",
      "source": [
        "### **5. Writing data from Spark to Neo4j Sandbox**"
      ],
      "metadata": {
        "id": "vFJJ50pKP7Mb"
      }
    },
    {
      "cell_type": "code",
      "source": [
        "#Connection to Neo4j Sanbox (Online Graph DB) - credentials, URL of Neo4j Sandbox DB\n",
        "\n",
        "neo4j_url = \"bolt://54.208.99.244:7687\"\n",
        "neo4j_user = \"neo4j\"\n",
        "neo4j_password = \"trip-top-machinery\"\n",
        "#neo4j_url = \"bolt://localhost:7687\"  #if connecting to Neo4j Desktop"
      ],
      "metadata": {
        "id": "tBdoR6XiynlE"
      },
      "execution_count": 28,
      "outputs": []
    },
    {
      "cell_type": "code",
      "source": [
        "# install java\n",
        "!apt-get install openjdk-8-jdk-headless -qq > /dev/null"
      ],
      "metadata": {
        "id": "Q7CUIeBnA5Xk"
      },
      "execution_count": 29,
      "outputs": []
    },
    {
      "cell_type": "code",
      "source": [
        "# install spark (change the version number if needed)\n",
        "\n",
        "!wget -q https://archive.apache.org/dist/spark/spark-3.0.1/spark-3.0.1-bin-hadoop3.2.tgz"
      ],
      "metadata": {
        "id": "R76BmskmUGqT"
      },
      "execution_count": 30,
      "outputs": []
    },
    {
      "cell_type": "code",
      "source": [
        "# unzip the spark file to the current folder\n",
        "!tar xf spark-3.0.1-bin-hadoop3.2.tgz"
      ],
      "metadata": {
        "id": "rZF0XuU5T3S9"
      },
      "execution_count": 31,
      "outputs": []
    },
    {
      "cell_type": "code",
      "source": [
        "# setting spark folder to system path environment.\n",
        "import os\n",
        "os.environ[\"JAVA_HOME\"] = \"/usr/lib/jvm/java-8-openjdk-amd64\"\n",
        "os.environ[\"SPARK_HOME\"] = \"/content/spark-3.0.1-bin-hadoop3.2\""
      ],
      "metadata": {
        "id": "o0IEWN9vTtJK"
      },
      "execution_count": 32,
      "outputs": []
    },
    {
      "cell_type": "code",
      "source": [
        "# install findspark using pip\n",
        "!pip install -q findspark"
      ],
      "metadata": {
        "id": "da97Sku0UAOd"
      },
      "execution_count": 33,
      "outputs": []
    },
    {
      "cell_type": "code",
      "source": [
        "import findspark\n",
        "findspark.init()"
      ],
      "metadata": {
        "id": "LxsG0UIqyndu"
      },
      "execution_count": 34,
      "outputs": []
    },
    {
      "cell_type": "code",
      "source": [
        "from pyspark.sql import SparkSession\n",
        "spark = (SparkSession.builder\n",
        "        .master('local[*]')\n",
        "        .appName('Project')\n",
        "        .config('spark.executor.memory', '4g')  # Allocate memory to Spark executor, e.g., 4g for 4GB\n",
        "        .config('spark.executor.cores', '4')  # Number of cores for each executor\n",
        "        .config('spark.cores.max', '4')  # Maximum number of cores to use\n",
        "        .config('spark.driver.memory','4g')  # Memory for Spark driver, e.g., 4g for 4GB\n",
        "        .config('spark.ui.port', '4050')\n",
        "        .config('spark.jars.packages', 'org.neo4j:neo4j-connector-apache-spark_2.12:4.1.5_for_spark_3')\n",
        "        .config(\"spark.jars\", \"/path/to/neo4j-spark-connector_2.12-4.1.5.jar\")\n",
        "        .config(\"neo4j.url\", neo4j_url)\n",
        "        .config(\"neo4j.authentication.type\", \"basic\")\n",
        "        .config(\"neo4j.authentication.basic.username\", neo4j_user)\n",
        "        .config(\"neo4j.authentication.basic.password\", neo4j_password)\n",
        "        .getOrCreate())"
      ],
      "metadata": {
        "id": "nQZIAIqdynbJ"
      },
      "execution_count": 35,
      "outputs": []
    },
    {
      "cell_type": "code",
      "source": [
        "spark.version"
      ],
      "metadata": {
        "colab": {
          "base_uri": "https://localhost:8080/",
          "height": 36
        },
        "id": "umYKuPgBPPhh",
        "outputId": "bf64fe82-b15d-4c28-8e92-a580532c6a07"
      },
      "execution_count": 11,
      "outputs": [
        {
          "output_type": "execute_result",
          "data": {
            "text/plain": [
              "'3.0.1'"
            ],
            "application/vnd.google.colaboratory.intrinsic+json": {
              "type": "string"
            }
          },
          "metadata": {},
          "execution_count": 11
        }
      ]
    },
    {
      "cell_type": "markdown",
      "source": [
        "**5.1 Writing Nodes to Neo4j Sandbox**"
      ],
      "metadata": {
        "id": "RijIlHSKmVHC"
      }
    },
    {
      "cell_type": "code",
      "source": [
        "(product\n",
        "  .write\n",
        "  .format(\"org.neo4j.spark.DataSource\")\n",
        "  .mode(\"Overwrite\")\n",
        "  .option(\"labels\", \"Product\")\n",
        "  .option('schema.optimization.type', 'NODE_CONSTRAINTS')\n",
        "  .option('partitions','4')\n",
        "  .option(\"node.keys\", \"product_id\")\n",
        "  .save())\n",
        "\n",
        "(category\n",
        "  .write\n",
        "  .format(\"org.neo4j.spark.DataSource\")\n",
        "  .mode(\"Overwrite\")\n",
        "  .option(\"labels\", \"Category\")\n",
        "  .option('schema.optimization.type', 'NODE_CONSTRAINTS')\n",
        "  .option('partitions','4')\n",
        "  .option(\"node.keys\", \"category_id\")\n",
        "  .save())\n",
        "\n",
        "\n",
        "(department\n",
        "  .write\n",
        "  .format(\"org.neo4j.spark.DataSource\")\n",
        "  .mode(\"Overwrite\")\n",
        "  .option(\"labels\", \"Department\")\n",
        "  .option('schema.optimization.type', 'NODE_CONSTRAINTS')\n",
        "  .option('partitions','4')\n",
        "  .option(\"node.keys\", \"dept_id\")\n",
        "  .save())\n",
        "\n",
        "\n",
        "(customer\n",
        "  .write\n",
        "  .format(\"org.neo4j.spark.DataSource\")\n",
        "  .mode(\"Overwrite\")\n",
        "  .option(\"labels\", \"Customer\")\n",
        "  .option('schema.optimization.type', 'NODE_CONSTRAINTS')\n",
        "  .option('partitions','4')\n",
        "  .option(\"node.keys\", \"customer_id\")\n",
        "  .save())\n",
        "\n",
        "(order\n",
        "  .write\n",
        "  .format(\"org.neo4j.spark.DataSource\")\n",
        "  .mode(\"Overwrite\")\n",
        "  .option(\"labels\", \"Order\")\n",
        "  .option('schema.optimization.type', 'NODE_CONSTRAINTS')\n",
        "  .option('partitions','4')\n",
        "  .option(\"node.keys\", \"order_id\")\n",
        "  .save())\n",
        "\n",
        "\n",
        "(item\n",
        "  .write\n",
        "  .format(\"org.neo4j.spark.DataSource\")\n",
        "  .mode(\"Overwrite\")\n",
        "  .option(\"labels\", \"Item\")\n",
        "  .option('schema.optimization.type', 'NODE_CONSTRAINTS')\n",
        "  .option('partitions','4')\n",
        "  .option(\"node.keys\", \"item_id\")\n",
        "  .save())\n",
        "\n",
        "\n",
        "(cluster\n",
        "  .write\n",
        "  .format(\"org.neo4j.spark.DataSource\")\n",
        "  .mode(\"Overwrite\")\n",
        "  .option(\"labels\", \"Cluster\")\n",
        "  .option('schema.optimization.type', 'NODE_CONSTRAINTS')\n",
        "  .option('partitions','4')\n",
        "  .option(\"node.keys\", \"customer_id\")\n",
        "  .save())"
      ],
      "metadata": {
        "id": "RhTq5Dc84jSD"
      },
      "execution_count": null,
      "outputs": []
    },
    {
      "cell_type": "markdown",
      "source": [
        "**5.2 Writing relationship**"
      ],
      "metadata": {
        "id": "EYdK0ohUmOWg"
      }
    },
    {
      "cell_type": "code",
      "source": [
        "(product.write.format('org.neo4j.spark.DataSource')\n",
        "        .mode('Overwrite')\n",
        "        .option(\"neo4j.url\", neo4j_url)\n",
        "        .option(\"neo4j.authentication.type\", \"basic\")\n",
        "        .option(\"neo4j.authentication.basic.username\", neo4j_user)\n",
        "        .option(\"neo4j.authentication.basic.password\", neo4j_password)\n",
        "        .option('query','MATCH (p:Product), (c:Category) WHERE p.product_category_id = c.category_id MERGE (p)-[:BELONGS_TO]->(c)')\n",
        "        .save())\n",
        "\n",
        "\n",
        "(category.write.format('org.neo4j.spark.DataSource')\n",
        "        .mode('Overwrite')\n",
        "        .option(\"neo4j.url\", neo4j_url)\n",
        "        .option(\"neo4j.authentication.type\", \"basic\")\n",
        "        .option(\"neo4j.authentication.basic.username\", neo4j_user)\n",
        "        .option(\"neo4j.authentication.basic.password\", neo4j_password)\n",
        "        .option('query','MATCH (d:Department), (c:Category) WHERE d.dept_id = c.category_dept_id MERGE (d)-[:HAS]->(c)')\n",
        "        .save())\n",
        "\n",
        "\n",
        "(order.write.format('org.neo4j.spark.DataSource')\n",
        "        .mode('Overwrite')\n",
        "        .option(\"neo4j.url\", neo4j_url)\n",
        "        .option(\"neo4j.authentication.type\", \"basic\")\n",
        "        .option(\"neo4j.authentication.basic.username\", neo4j_user)\n",
        "        .option(\"neo4j.authentication.basic.password\", neo4j_password)\n",
        "        .option('query','MATCH (c:Customer), (o:Order) WHERE d.customer_id = c.customer_id MERGE (c)-[:ORDERED]->(d)')\n",
        "        .save())\n",
        "\n",
        "(item.write.format('org.neo4j.spark.DataSource')\n",
        "        .mode('Overwrite')\n",
        "        .option(\"neo4j.url\", neo4j_url)\n",
        "        .option(\"neo4j.authentication.type\", \"basic\")\n",
        "        .option(\"neo4j.authentication.basic.username\", neo4j_user)\n",
        "        .option(\"neo4j.authentication.basic.password\", neo4j_password)\n",
        "        .option('query','MATCH (p:Product), (i:Item) WHERE p.product_id = i.product_id MERGE (p)-[:HAS_QTY]->(i)')\n",
        "        .save())\n",
        "\n",
        "(item.write.format('org.neo4j.spark.DataSource')\n",
        "        .mode('Overwrite')\n",
        "        .option(\"neo4j.url\", neo4j_url)\n",
        "        .option(\"neo4j.authentication.type\", \"basic\")\n",
        "        .option(\"neo4j.authentication.basic.username\", neo4j_user)\n",
        "        .option(\"neo4j.authentication.basic.password\", neo4j_password)\n",
        "        .option('query','MATCH (o:Order), (i:Item) WHERE o.order_id = i.order_id MERGE (o)-[:HAS_ITEMS]->(i)')\n",
        "        .save())\n",
        "\n",
        "(cluster.write.format('org.neo4j.spark.DataSource')\n",
        "        .mode('Overwrite')\n",
        "        .option(\"neo4j.url\", neo4j_url)\n",
        "        .option(\"neo4j.authentication.type\", \"basic\")\n",
        "        .option(\"neo4j.authentication.basic.username\", neo4j_user)\n",
        "        .option(\"neo4j.authentication.basic.password\", neo4j_password)\n",
        "        .option('query','MATCH (c:Customer), (r:Cluster) WHERE c.customer_id = r.cluster_customer_id MERGE (c)-[:IN_CLUSTER]->(r)')\n",
        "        .save())"
      ],
      "metadata": {
        "id": "afwSC3HE8s1i"
      },
      "execution_count": null,
      "outputs": []
    },
    {
      "cell_type": "markdown",
      "source": [
        "**5.3 Neo4j DB Schema**\n",
        "\n",
        "![DB_Schema.jpeg.png](data:image/png;base64,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)"
      ],
      "metadata": {
        "id": "rWY_Dk1gTaWK"
      }
    },
    {
      "cell_type": "markdown",
      "source": [
        "1. Customer-[:IN_CLUSTER]->Cluster\n",
        "2. Customer-[:ORDERED]-> Order\n",
        "3. Order-[:HAS_ITEMS]->Item\n",
        "4. Product-[:HAS_QTY]->Item\n",
        "5. Product-[:BELONGS_TO]->Category\n",
        "6. Department-[:HAS]->Category\n",
        "\n",
        "6 nodes and 5 relationships\n",
        "\n",
        "\n",
        "\n",
        "\n"
      ],
      "metadata": {
        "id": "wVpqEchPzBqO"
      }
    },
    {
      "cell_type": "markdown",
      "source": [
        "#### **6. Product Recommendation**"
      ],
      "metadata": {
        "id": "G7TItZk0mgsy"
      }
    },
    {
      "cell_type": "code",
      "source": [
        "!pip install neo4j-driver\n",
        "!pip install py2neo\n",
        "from py2neo import Graph"
      ],
      "metadata": {
        "colab": {
          "base_uri": "https://localhost:8080/"
        },
        "id": "7O_MNYpaGYgf",
        "outputId": "48ddeb1e-5d9a-4ff5-c0b3-f4efb0596386"
      },
      "execution_count": 36,
      "outputs": [
        {
          "output_type": "stream",
          "name": "stdout",
          "text": [
            "Requirement already satisfied: neo4j-driver in /usr/local/lib/python3.10/dist-packages (5.18.0)\n",
            "Requirement already satisfied: pytz in /usr/local/lib/python3.10/dist-packages (from neo4j-driver) (2023.4)\n",
            "Requirement already satisfied: py2neo in /usr/local/lib/python3.10/dist-packages (2021.2.4)\n",
            "Requirement already satisfied: certifi in /usr/local/lib/python3.10/dist-packages (from py2neo) (2024.2.2)\n",
            "Requirement already satisfied: interchange~=2021.0.4 in /usr/local/lib/python3.10/dist-packages (from py2neo) (2021.0.4)\n",
            "Requirement already satisfied: monotonic in /usr/local/lib/python3.10/dist-packages (from py2neo) (1.6)\n",
            "Requirement already satisfied: packaging in /usr/local/lib/python3.10/dist-packages (from py2neo) (23.2)\n",
            "Requirement already satisfied: pansi>=2020.7.3 in /usr/local/lib/python3.10/dist-packages (from py2neo) (2020.7.3)\n",
            "Requirement already satisfied: pygments>=2.0.0 in /usr/local/lib/python3.10/dist-packages (from py2neo) (2.16.1)\n",
            "Requirement already satisfied: six>=1.15.0 in /usr/local/lib/python3.10/dist-packages (from py2neo) (1.16.0)\n",
            "Requirement already satisfied: urllib3 in /usr/local/lib/python3.10/dist-packages (from py2neo) (2.0.7)\n",
            "Requirement already satisfied: pytz in /usr/local/lib/python3.10/dist-packages (from interchange~=2021.0.4->py2neo) (2023.4)\n"
          ]
        }
      ]
    },
    {
      "cell_type": "code",
      "source": [
        "graph = Graph(neo4j_url,auth=(neo4j_user,neo4j_password))\n",
        "graph"
      ],
      "metadata": {
        "id": "ppB_BpcME7Me",
        "colab": {
          "base_uri": "https://localhost:8080/",
          "height": 0
        },
        "outputId": "54cc0b4f-e0ca-46d7-f357-637172a4006e"
      },
      "execution_count": 24,
      "outputs": [
        {
          "output_type": "execute_result",
          "data": {
            "text/plain": [
              "Graph('bolt://54.208.99.244:7687')"
            ]
          },
          "metadata": {},
          "execution_count": 24
        }
      ]
    },
    {
      "cell_type": "markdown",
      "source": [
        "#### **6.1 Business Problems**\n",
        "**1. Recommend products from the most popular category within the customer's cluster**"
      ],
      "metadata": {
        "id": "tv8wCyJauoY1"
      }
    },
    {
      "cell_type": "code",
      "source": [
        "query = \"\"\"\n",
        "// Identify the customer's cluster and the most popular category within that cluster\n",
        "MATCH (c:Customer)-[:IN_CLUSTER]->(cl:Cluster)\n",
        "WHERE\n",
        "MATCH (cl)<-[:IN_CLUSTER]-(c2:Customer)\n",
        "MATCH (c2)-[:ORDERED]->(o:Order)\n",
        "MATCH (o)-[:HAS_ITEMS]->(i:Item)\n",
        "MATCH (i)<-[:HAS_QTY]-(p:Product)\n",
        "MATCH (p)-[:BELONGS_TO]->(cat:Category)\n",
        "WITH cl.cluster AS cluster_grp,cat.category_id AS cat_id, count(p) AS purchases\n",
        "ORDER BY purchases DESC\n",
        "LIMIT 1\n",
        "\n",
        "\n",
        "// With the most popular category identified, recommend the most popular products within this category\n",
        "MATCH (cat1:Category)<-[:BELONGS_TO]-(p:Product)\n",
        "WHERE toInteger(cat1.category_id) = toInteger(cat_id)\n",
        "MATCH (p)-[:HAS_QTY]->(i:Item)\n",
        "MATCH (i)<-[:HAS_ITEMS]-(o:Order)\n",
        "RETURN cluster_grp,p.product_id, p.product_name, COUNT(o) AS orders\n",
        "ORDER BY orders DESC\n",
        "LIMIT 10\n",
        "\n",
        "\"\"\"\n",
        "print('Cluster  | Product ID |  Product_Name |  Orders')\n",
        "# Execute the query\n",
        "nodes = graph.run(query)\n",
        "\n",
        "# Iterate through the results\n",
        "for node in nodes:\n",
        "    print(node)"
      ],
      "metadata": {
        "id": "vc5ddN6BHfdO",
        "colab": {
          "base_uri": "https://localhost:8080/",
          "height": 0
        },
        "outputId": "efcc8db1-d3a2-4272-9ead-79760eed8b0e"
      },
      "execution_count": 22,
      "outputs": [
        {
          "output_type": "stream",
          "name": "stdout",
          "text": [
            "Cluster  | Product ID |  Product_Name |  Orders\n",
            "1\t'365'\t'Perfect Fitness Perfect Rip Deck'\t20170\n",
            "1\t'364'\t'Total Gym 1400'\t36\n"
          ]
        }
      ]
    },
    {
      "cell_type": "markdown",
      "source": [
        "**2. Recommend products that are commonly bought together with the customer (ID-10351) last purchase**"
      ],
      "metadata": {
        "id": "AFAYzFZuwxra"
      }
    },
    {
      "cell_type": "code",
      "source": [
        "query = \"\"\"\n",
        "MATCH (cl:Cluster)<-[:IN_Cluster]-(c:Customer {customer_id:'10351})\n",
        "MATCH (c)-[:ORDERED]->(o)\n",
        "MATCH (o)-[:HAS_ITEMS]->(i)\n",
        "MATCH (i)<-[:HAS_QTY]-(p:Product)\n",
        "WITH cl.cluster AS clustgrp,c.customer_id AS custid, collect(p.product_id) AS custprods\n",
        "\n",
        "//Recommend based on what other customers in same cluster bought togther with the product 10351 bought\n",
        "MATCH (cl2:Cluster)-[:IN_CLUSTER]-(other:Customer)\n",
        "WHERE cl2.cluser = clustgrp\n",
        "MATCH (other)-[:ORDERED]->(o2)\n",
        "MATCH (o2)-[:HAS_ITEMS]->(i2)\n",
        "MATCH (i2)<-[:HAS_QTY]-(p2:Product)\n",
        "WHERE other.customer_id <> custid AND NOT p2.product_id IN custprods AND o2.order_status<>'CANCELED'\n",
        "RETURN p2.product_name, COUNT(*) AS count\n",
        "ORDER BY count DESC\n",
        "LIMIT 5\n",
        "\n",
        "\"\"\"\n",
        "print('Product_Name | Orders')\n",
        "nodes = graph.run(query)\n",
        "for node in nodes:\n",
        "    print(node)"
      ],
      "metadata": {
        "id": "dNJz3Dt6KO9W",
        "colab": {
          "base_uri": "https://localhost:8080/"
        },
        "outputId": "57624769-f64c-426f-d985-9808a8543523"
      },
      "execution_count": 37,
      "outputs": [
        {
          "output_type": "stream",
          "name": "stdout",
          "text": [
            "Product_Name | Orders\n",
            "\"Nike Men's CJ Elite 2 TD Football Cleat\"\t8706\n",
            "\"Nike Men's Dri-FIT Victory Golf Polo\"\t8388\n",
            "\"O'Brien Men's Neoprene Life Vest\"\t7725\n",
            "'Field & Stream Sportsman 16 Gun Fire Safe'\t6868\n",
            "'Pelican Sunstream 100 Kayak'\t6161\n"
          ]
        }
      ]
    },
    {
      "cell_type": "markdown",
      "source": [
        "#### **6. References**\n",
        "\n",
        "\n",
        "\n",
        "1.   https://neo4j.com/docs/spark/current/overview/\n",
        "2.   https://www.youtube.com/watch?v=oMTmG4ClO5I\n",
        "3.   https://www.youtube.com/watch?v=581Zd-Yihew\n",
        "4. https://sandbox.neo4j.com/?usecase=fraud-detection\n",
        "5.   https://community.neo4j.com/t/fastest-way-to-load-data-in-neo4j-using-python/35904/6\n",
        "6. https://community.cloudera.com/t5/Community-Articles/Spark-Python-Supportability-Matrix/ta-p/379144\n",
        "7. https://github.com/neo4j-contrib/neo4j-spark-connector\n",
        "\n",
        "\n"
      ],
      "metadata": {
        "id": "KS7ROGkqXw_M"
      }
    }
  ]
}